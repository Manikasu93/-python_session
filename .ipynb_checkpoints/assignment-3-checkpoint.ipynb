{
 "cells": [
  {
   "cell_type": "markdown",
   "id": "0fe2dd0f",
   "metadata": {},
   "source": [
    "### TRY AND EXCEPTION METHOD"
   ]
  },
  {
   "cell_type": "markdown",
   "id": "68b29d22",
   "metadata": {},
   "source": [
    "## Q)1"
   ]
  },
  {
   "cell_type": "code",
   "execution_count": 1,
   "id": "2d6ca7e6",
   "metadata": {},
   "outputs": [
    {
     "name": "stdout",
     "output_type": "stream",
     "text": [
      "Enter a number:5\n",
      "The square of 5 is 25.\n"
     ]
    }
   ],
   "source": [
    "try:\n",
    "    val1=eval(input(\"Enter a number:\"))\n",
    "    val2=val1**2\n",
    "    print(\"The square of {} is {}.\".format(val1,val2))\n",
    "    \n",
    "except Exception as e:\n",
    "    print(e)"
   ]
  },
  {
   "cell_type": "markdown",
   "id": "e456719b",
   "metadata": {},
   "source": [
    "## Q)2"
   ]
  },
  {
   "cell_type": "code",
   "execution_count": 3,
   "id": "ff775cce",
   "metadata": {},
   "outputs": [
    {
     "name": "stdout",
     "output_type": "stream",
     "text": [
      "Enter the number:7\n",
      "The multiplication of 7---14---21---28---35\n"
     ]
    }
   ],
   "source": [
    "try:\n",
    "    val1=eval(input(\"Enter the number:\"))\n",
    "    val2=2*val1\n",
    "    val3=3*val1\n",
    "    val4=4*val1\n",
    "    val5=5*val1\n",
    "    mul=val1*val2*val3*val4*val5\n",
    "    print ('The multiplication of {}---{}---{}---{}---{}'.format(val1,val2,val3,val4,val5))\n",
    "    \n",
    "except Exception as e:\n",
    "    print(e)"
   ]
  },
  {
   "cell_type": "markdown",
   "id": "37cd97e6",
   "metadata": {},
   "source": [
    "## Q)3"
   ]
  },
  {
   "cell_type": "code",
   "execution_count": 5,
   "id": "c4877151",
   "metadata": {},
   "outputs": [
    {
     "name": "stdout",
     "output_type": "stream",
     "text": [
      "enter the weight in kg:20\n",
      "the weight_kg in pounds is 44.0\n"
     ]
    }
   ],
   "source": [
    "try:    \n",
    "    weight_kg=eval(input('enter the weight in kg:'))\n",
    "    convert=weight_kg*2.2\n",
    "    print('the weight_kg in pounds is {}'.format(convert))\n",
    "except Exception as e:\n",
    "    print(e)"
   ]
  },
  {
   "cell_type": "markdown",
   "id": "9e571d87",
   "metadata": {},
   "source": [
    "## Q)4"
   ]
  },
  {
   "cell_type": "code",
   "execution_count": 8,
   "id": "2954cfb1",
   "metadata": {},
   "outputs": [
    {
     "name": "stdout",
     "output_type": "stream",
     "text": [
      "enter the 1:10\n",
      "enter the 2:20\n",
      "enter the 3:3\n",
      "The values of total and average 33 sum is 11.0\n"
     ]
    }
   ],
   "source": [
    "try:\n",
    "    val1=eval(input(\"enter the 1:\"))\n",
    "    val2=eval(input(\"enter the 2:\"))\n",
    "    val3=eval(input(\"enter the 3:\"))\n",
    "    sum1=val1+val2+val3\n",
    "    average=sum1/3\n",
    "    print(\"The values of total and average {} sum is {}\".format(sum1, average))\n",
    "except Exception as e:\n",
    "    print(e)"
   ]
  },
  {
   "cell_type": "markdown",
   "id": "8b23fabd",
   "metadata": {},
   "source": [
    "## Q)5"
   ]
  },
  {
   "cell_type": "code",
   "execution_count": 10,
   "id": "88234196",
   "metadata": {},
   "outputs": [
    {
     "name": "stdout",
     "output_type": "stream",
     "text": [
      "Enter the price of meal: 2000\n",
      "Enter the percent tip: 2\n",
      "Total Tip amount: 40.0\n",
      "Total Bill Amount: 2040.0\n"
     ]
    }
   ],
   "source": [
    "try:\n",
    "    price_meal= eval(input(\"Enter the price of meal: \"))\n",
    "    percent_tip= eval (input(\"Enter the percent tip: \"))\n",
    "    total_tipamt= price_meal*(percent_tip/100)\n",
    "    total_bill= price_meal+total_tipamt\n",
    "    print( \"Total Tip amount: {}\". format(total_tipamt))\n",
    "    print( \"Total Bill Amount: {}\". format(total_bill))\n",
    "except Exception as e:\n",
    "    print(e)"
   ]
  },
  {
   "cell_type": "markdown",
   "id": "8a933ec4",
   "metadata": {},
   "source": [
    "## Q)6"
   ]
  },
  {
   "cell_type": "code",
   "execution_count": 6,
   "id": "259d7e47",
   "metadata": {},
   "outputs": [
    {
     "name": "stdout",
     "output_type": "stream",
     "text": [
      "mani basic salary:-8000\n",
      "The D.A of the basics salary:-3200.0\n",
      "H.A of basic salary:-3200.0\n",
      "mani gross salary 3200.0\n"
     ]
    }
   ],
   "source": [
    "try:\n",
    "    salary=eval(input('mani basic salary:-'))\n",
    "    d=(40*salary)/100\n",
    "    h=(20*salary)/100\n",
    "    total_salary=salary+d+h\n",
    "    print('The D.A of the basics salary:-{}'.format(d,h,total_salary))\n",
    "    print('H.A of basic salary:-{}'.format(d,h,total_salary))\n",
    "    print('mani gross salary {}'.format(d,h,total_salary))\n",
    "\n",
    "except Exception as e:\n",
    "    print(e)"
   ]
  },
  {
   "cell_type": "markdown",
   "id": "c86a5db5",
   "metadata": {},
   "source": [
    "### Q)7"
   ]
  },
  {
   "cell_type": "code",
   "execution_count": 18,
   "id": "e2c0ac99",
   "metadata": {},
   "outputs": [
    {
     "name": "stdout",
     "output_type": "stream",
     "text": [
      "enter the distance between two cities in km:-10\n",
      "distance in meters 10000\n",
      "distance in feets 32808.4\n",
      "distance in inches 393701.0\n",
      "distance in centimeters 1000000\n"
     ]
    }
   ],
   "source": [
    "try:    \n",
    "    distance_km=eval(input('enter the distance between two cities in km:-'))\n",
    "    meters=distance_km*1000\n",
    "    feet=distance_km*3280.84\n",
    "    inches=distance_km*39370.1\n",
    "    centimeters=distance_km*100000\n",
    "    print('distance in meters',meters)\n",
    "    print('distance in feets',feet)\n",
    "    print('distance in inches',inches)\n",
    "    print('distance in centimeters',centimeters)\n",
    "except Exception as e:\n",
    "    print(e)"
   ]
  },
  {
   "cell_type": "code",
   "execution_count": 5,
   "id": "bec2ebe9",
   "metadata": {},
   "outputs": [
    {
     "name": "stdout",
     "output_type": "stream",
     "text": [
      "which do you want to convert:-centimeters\n",
      "enter the distance between two cities in km:-10\n",
      "the distance converts10 km into 32808.4centimeters\n"
     ]
    }
   ],
   "source": [
    "try:\n",
    "    convert=input('which do you want to convert:-')\n",
    "    distance_km=eval(input('enter the distance between two cities in km:-'))\n",
    "    if convert=='meter':\n",
    "        print('the distance converts{} km into {}meters'.format(distance_km,distance_km*1000))\n",
    "    elif  convert=='feet':\n",
    "        print('the distance converts{} km into {}feets'.format(distance_km,distance_km*3280.84))\n",
    "    elif  convert=='inches':\n",
    "        print('the distance converts{} km into {}inches'.format(distance_km,distance_km*39370.1))\n",
    "    elif  convert=='centimeters':\n",
    "        print('the distance converts{} km into {}centimeters'.format(distance_km,distance_km*3280.84))\n",
    "    else:\n",
    "        print(\"error\")\n",
    "except Exception as e:\n",
    "    print(e)\n",
    "\n",
    "\n"
   ]
  },
  {
   "cell_type": "markdown",
   "id": "c1387acd",
   "metadata": {},
   "source": [
    "### Q)8"
   ]
  },
  {
   "cell_type": "code",
   "execution_count": 1,
   "id": "98cb9239",
   "metadata": {},
   "outputs": [
    {
     "name": "stdout",
     "output_type": "stream",
     "text": [
      "enter the marks 1:-50\n",
      "enter the marks 2:-95\n",
      "enter the marks 3:-95\n",
      "enter the marks 4:-95\n",
      "enter the marks 5:-95\n",
      "total marks: 430\n",
      "percentage marks: 86.0\n",
      "pass 86.0\n"
     ]
    }
   ],
   "source": [
    "try:\n",
    "    m1=eval(input('enter the marks 1:-'))\n",
    "    m2=eval(input('enter the marks 2:-'))\n",
    "    m3=eval(input('enter the marks 3:-'))\n",
    "    m4=eval(input('enter the marks 4:-'))\n",
    "    m5=eval(input('enter the marks 5:-'))\n",
    "    total=m1+m2+m3+m4+m5\n",
    "    per=total/5\n",
    "    print('total marks:',total)\n",
    "    print('percentage marks:',per)\n",
    "    if per>=50:\n",
    "        print('pass',per)\n",
    "    else:\n",
    "        print('fail')\n",
    "except Exception as m:\n",
    "    print(m)"
   ]
  },
  {
   "cell_type": "markdown",
   "id": "a41c6f77",
   "metadata": {},
   "source": [
    "## Q)9"
   ]
  },
  {
   "cell_type": "code",
   "execution_count": 6,
   "id": "c0564885",
   "metadata": {},
   "outputs": [
    {
     "name": "stdout",
     "output_type": "stream",
     "text": [
      "enter the degree:-20\n",
      "Temperature of a city 20 Fahrenheit degrees converted into-6.666666666666667 Centigrade degrees\n"
     ]
    }
   ],
   "source": [
    "try:\n",
    "    temp_of_city=eval(input('enter the degree:-'))\n",
    "    centigrade_degree=((temp_of_city-32)*5/9)\n",
    "    print(\"Temperature of a city {} Fahrenheit degrees converted into{} Centigrade degrees\".format(temp_of_city,centigrade_degree))\n",
    "except Exception as m:\n",
    "    print(m)"
   ]
  },
  {
   "cell_type": "markdown",
   "id": "84d59724",
   "metadata": {},
   "source": [
    "## Q)10"
   ]
  },
  {
   "cell_type": "code",
   "execution_count": 14,
   "id": "d07b7368",
   "metadata": {
    "scrolled": true
   },
   "outputs": [
    {
     "name": "stdout",
     "output_type": "stream",
     "text": [
      "enter the length:-15\n",
      "enter the breadth:-15\n",
      "enter the radius:-15\n",
      "area of rectangular 225 is  parameter94.24777960769379\n",
      "area of circle 225 is parameter94.24777960769379\n"
     ]
    }
   ],
   "source": [
    "try:    \n",
    "    length=eval(input('enter the length:-'))\n",
    "    breadth=eval(input('enter the breadth:-'))\n",
    "    circle=eval(input('enter the radius:-'))\n",
    "    area=length*breadth\n",
    "    parameter=2*(length,breadth)\n",
    "    import math\n",
    "    radius=math.pi*circle*circle\n",
    "    parameter=2*math.pi*circle\n",
    "    print('area of rectangular {} is  parameter{}'.format(area,parameter))\n",
    "    print('area of circle {} is parameter{}'.format(area,parameter))\n",
    "except Exception as m:\n",
    "    print(m)"
   ]
  },
  {
   "cell_type": "markdown",
   "id": "1485c4dc",
   "metadata": {},
   "source": [
    "## Q)11"
   ]
  },
  {
   "cell_type": "code",
   "execution_count": 15,
   "id": "cb507f3e",
   "metadata": {},
   "outputs": [
    {
     "name": "stdout",
     "output_type": "stream",
     "text": [
      "enter the first name:-Mani\n",
      "enter the last name:-kasu\n",
      "enter the oringinal content:-Mani,kasu\n",
      "enter the inter change content:-kasu,Mani\n"
     ]
    }
   ],
   "source": [
    "try:   \n",
    "    c=input('enter the first name:-')\n",
    "    d=input('enter the last name:-')\n",
    "    print('enter the oringinal content:-{},{}'.format(c,d))\n",
    "    print('enter the inter change content:-{},{}'.format(d,c))\n",
    "except Exception as m:\n",
    "    print(m)\n"
   ]
  },
  {
   "cell_type": "markdown",
   "id": "262d5010",
   "metadata": {},
   "source": [
    "## Q)12"
   ]
  },
  {
   "cell_type": "code",
   "execution_count": 20,
   "id": "5cc0c964",
   "metadata": {},
   "outputs": [
    {
     "name": "stdout",
     "output_type": "stream",
     "text": [
      "enter the value:-12345\n",
      "reverse number (5, 4, 3, 2, 1)\n"
     ]
    }
   ],
   "source": [
    "try:\n",
    "    num=int(input('enter the value:-'))\n",
    "    f=num%10\n",
    "    d=(num//10)%10\n",
    "    c=(num//100)%10\n",
    "    b=(num//1000)%10\n",
    "    a=(num//10000)%10\n",
    "    print('reverse number',(f,d,c,b,a))\n",
    "except Exception as m:\n",
    "    print(m)"
   ]
  },
  {
   "cell_type": "markdown",
   "id": "2ae5728f",
   "metadata": {},
   "source": [
    "## Q)13"
   ]
  },
  {
   "cell_type": "code",
   "execution_count": 25,
   "id": "1b898139",
   "metadata": {},
   "outputs": [
    {
     "name": "stdout",
     "output_type": "stream",
     "text": [
      "enter the value:-9876\n",
      "the addition of first 6 and last number 8 is 14\n"
     ]
    }
   ],
   "source": [
    "try:\n",
    "    num=int(input('enter the value:-'))\n",
    "    d=num%10\n",
    "    c=(num//10)%10\n",
    "    b=(num//100)%10\n",
    "    a=(num//100)%10\n",
    "    print('the addition of first {} and last number {} is {}'.format(d,a,d+a))\n",
    "except Exception as m:\n",
    "    print(m)"
   ]
  },
  {
   "cell_type": "markdown",
   "id": "dc9dd6f7",
   "metadata": {},
   "source": [
    "## Q)14"
   ]
  },
  {
   "cell_type": "code",
   "execution_count": 32,
   "id": "3ef310b9",
   "metadata": {},
   "outputs": [
    {
     "name": "stdout",
     "output_type": "stream",
     "text": [
      "enter total population in town:-20000\n",
      "women in the town: 9600.0\n",
      "total illiterate men of the twom is 3400\n",
      "illiterate women is 9600\n"
     ]
    }
   ],
   "source": [
    "try:\n",
    "    total=eval(input('enter total population in town:-'))\n",
    "    men=(52/100)*total\n",
    "    wmen=total-men\n",
    "    lit=(48/100)*total\n",
    "    litm=(35/100)*total\n",
    "    litwo=lit-lit\n",
    "    illitwmen=wmen-litwo\n",
    "    print('women in the town:',wmen)\n",
    "    print('total illiterate men of the twom is',round(men-litm))\n",
    "    print('illiterate women is',round(illitwmen))\n",
    "except Exception as m:\n",
    "    print(m)"
   ]
  },
  {
   "cell_type": "markdown",
   "id": "fb49fec5",
   "metadata": {},
   "source": [
    "## Q)15"
   ]
  },
  {
   "cell_type": "code",
   "execution_count": 36,
   "id": "133c2951",
   "metadata": {},
   "outputs": [
    {
     "name": "stdout",
     "output_type": "stream",
     "text": [
      "please enter amount for withdrawl:105388\n",
      "required no of notes in hundred is: 1053\n",
      "required no of notes in fiftys is: 1\n",
      "required no of notes in tensis: 3\n",
      "remaning change is: 8\n"
     ]
    }
   ],
   "source": [
    "try:    \n",
    "    amount=int(input('please enter amount for withdrawl:'))\n",
    "    hundred=amount//100\n",
    "    fifty=(amount%100)//50\n",
    "    tens=((amount%100)%50)//10\n",
    "    rem=((amount%100)%50)%10\n",
    "    print('required no of notes in hundred is:',hundred)\n",
    "    print('required no of notes in fiftys is:',fifty)\n",
    "    print('required no of notes in tensis:',tens)\n",
    "    print('remaning change is:',rem)\n",
    "except Exception as m:\n",
    "    print(m)\n"
   ]
  },
  {
   "cell_type": "code",
   "execution_count": null,
   "id": "353a67fc",
   "metadata": {},
   "outputs": [],
   "source": [
    "# im modifing the coded"
   ]
  },
  {
   "cell_type": "code",
   "execution_count": null,
   "id": "7980bf40",
   "metadata": {},
   "outputs": [],
   "source": []
  },
  {
   "cell_type": "code",
   "execution_count": null,
   "id": "9415a12a",
   "metadata": {},
   "outputs": [],
   "source": []
  },
  {
   "cell_type": "code",
   "execution_count": null,
   "id": "3b464bda",
   "metadata": {},
   "outputs": [],
   "source": []
  },
  {
   "cell_type": "code",
   "execution_count": null,
   "id": "fec54aef",
   "metadata": {},
   "outputs": [],
   "source": []
  },
  {
   "cell_type": "code",
   "execution_count": null,
   "id": "701e0393",
   "metadata": {},
   "outputs": [],
   "source": [
    "\n"
   ]
  },
  {
   "cell_type": "code",
   "execution_count": null,
   "id": "13dc4510",
   "metadata": {},
   "outputs": [],
   "source": []
  },
  {
   "cell_type": "code",
   "execution_count": null,
   "id": "e25c9fda",
   "metadata": {},
   "outputs": [],
   "source": []
  },
  {
   "cell_type": "code",
   "execution_count": null,
   "id": "b1c23b10",
   "metadata": {},
   "outputs": [],
   "source": []
  },
  {
   "cell_type": "code",
   "execution_count": null,
   "id": "213fd4bc",
   "metadata": {},
   "outputs": [],
   "source": []
  },
  {
   "cell_type": "code",
   "execution_count": null,
   "id": "f83d9b1d",
   "metadata": {},
   "outputs": [],
   "source": []
  },
  {
   "cell_type": "code",
   "execution_count": null,
   "id": "bca8d757",
   "metadata": {},
   "outputs": [],
   "source": []
  },
  {
   "cell_type": "code",
   "execution_count": null,
   "id": "c437b01c",
   "metadata": {},
   "outputs": [],
   "source": []
  },
  {
   "cell_type": "code",
   "execution_count": null,
   "id": "0171b16d",
   "metadata": {},
   "outputs": [],
   "source": []
  },
  {
   "cell_type": "code",
   "execution_count": null,
   "id": "b6cf05a5",
   "metadata": {},
   "outputs": [],
   "source": []
  },
  {
   "cell_type": "code",
   "execution_count": null,
   "id": "1dd985a8",
   "metadata": {},
   "outputs": [],
   "source": []
  },
  {
   "cell_type": "code",
   "execution_count": null,
   "id": "ae007bae",
   "metadata": {},
   "outputs": [],
   "source": []
  },
  {
   "cell_type": "code",
   "execution_count": null,
   "id": "a5bc1e11",
   "metadata": {},
   "outputs": [],
   "source": []
  },
  {
   "cell_type": "code",
   "execution_count": null,
   "id": "45166b4d",
   "metadata": {},
   "outputs": [],
   "source": []
  },
  {
   "cell_type": "code",
   "execution_count": null,
   "id": "ad7d91c2",
   "metadata": {},
   "outputs": [],
   "source": []
  }
 ],
 "metadata": {
  "kernelspec": {
   "display_name": "Python 3 (ipykernel)",
   "language": "python",
   "name": "python3"
  },
  "language_info": {
   "codemirror_mode": {
    "name": "ipython",
    "version": 3
   },
   "file_extension": ".py",
   "mimetype": "text/x-python",
   "name": "python",
   "nbconvert_exporter": "python",
   "pygments_lexer": "ipython3",
   "version": "3.11.5"
  }
 },
 "nbformat": 4,
 "nbformat_minor": 5
}
