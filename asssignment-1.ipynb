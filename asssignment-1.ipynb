{
 "cells": [
  {
   "cell_type": "markdown",
   "id": "b2037045",
   "metadata": {},
   "source": [
    "                           ASSIGNEMENT-1 mani"
   ]
  },
  {
   "cell_type": "markdown",
   "id": "197c749b",
   "metadata": {},
   "source": [
    "### Q)1"
   ]
  },
  {
   "cell_type": "code",
   "execution_count": 33,
   "id": "52a67080",
   "metadata": {},
   "outputs": [
    {
     "name": "stdout",
     "output_type": "stream",
     "text": [
      "Enter a number:10\n",
      "The square of 10 is 100.\n"
     ]
    }
   ],
   "source": [
    "val1=eval(input(\"Enter a number:\"))\n",
    "val2=val1**2\n",
    "print(\"The square of {} is {}.\".format(val1,val2))"
   ]
  },
  {
   "cell_type": "markdown",
   "id": "3e8225bb",
   "metadata": {},
   "source": [
    "### Q)2"
   ]
  },
  {
   "cell_type": "code",
   "execution_count": 9,
   "id": "1a6f7b63",
   "metadata": {},
   "outputs": [
    {
     "name": "stdout",
     "output_type": "stream",
     "text": [
      "Enter the number:4\n",
      "The multiplication of 4---8---12---16---20\n"
     ]
    }
   ],
   "source": [
    "val1=eval(input(\"Enter the number:\"))\n",
    "val2=2*val1\n",
    "val3=3*val1\n",
    "val4=4*val1\n",
    "val5=5*val1\n",
    "\n",
    "mul=val1*val2*val3*val4*val5\n",
    "print ('The multiplication of {}---{}---{}---{}---{}'.format(val1,val2,val3,val4,val5))"
   ]
  },
  {
   "cell_type": "markdown",
   "id": "35052be8",
   "metadata": {},
   "source": [
    "### Q)3"
   ]
  },
  {
   "cell_type": "code",
   "execution_count": 10,
   "id": "3f42a1df",
   "metadata": {},
   "outputs": [
    {
     "name": "stdout",
     "output_type": "stream",
     "text": [
      "enter the weight in kg:5\n",
      "the weight_kg in pounds is 11.0\n"
     ]
    }
   ],
   "source": [
    "weight_kg=eval(input('enter the weight in kg:'))\n",
    "convert=weight_kg*2.2\n",
    "print('the weight_kg in pounds is {}'.format(convert))"
   ]
  },
  {
   "cell_type": "markdown",
   "id": "248e2a47",
   "metadata": {},
   "source": [
    "\n",
    "\n",
    "### Q)4"
   ]
  },
  {
   "cell_type": "code",
   "execution_count": 14,
   "id": "a93ec918",
   "metadata": {},
   "outputs": [
    {
     "name": "stdout",
     "output_type": "stream",
     "text": [
      "enter the 1:6\n",
      "enter the 2:5\n",
      "enter the 3:8\n",
      "The values of total 19 and average sum is 6.333333333333333\n"
     ]
    }
   ],
   "source": [
    "val1=eval(input(\"enter the 1:\"))\n",
    "val2=eval(input(\"enter the 2:\"))\n",
    "val3=eval(input(\"enter the 3:\"))\n",
    "total=val1+val2+val3\n",
    "average=total/3\n",
    "print(\"The values of total {} and average sum is {}\".format(total, average))"
   ]
  },
  {
   "cell_type": "markdown",
   "id": "c31bc80b",
   "metadata": {},
   "source": [
    "### Q)5"
   ]
  },
  {
   "cell_type": "code",
   "execution_count": 8,
   "id": "95689bcc",
   "metadata": {},
   "outputs": [
    {
     "name": "stdout",
     "output_type": "stream",
     "text": [
      "Enter the price of meal: 2000\n",
      "Enter the percent tip: 20\n",
      "Total Tip amount: 400.0\n",
      "Total Bill Amount: 2400.0\n"
     ]
    }
   ],
   "source": [
    "price_meal= eval(input(\"Enter the price of meal: \"))\n",
    "percent_tip= eval (input(\"Enter the percent tip: \"))\n",
    "total_tipamt= price_meal*(percent_tip/100)\n",
    "total_bill= price_meal+total_tipamt\n",
    "print( \"Total Tip amount: {}\". format(total_tipamt))\n",
    "print( \"Total Bill Amount: {}\". format(total_bill))"
   ]
  },
  {
   "cell_type": "code",
   "execution_count": null,
   "id": "32400631",
   "metadata": {},
   "outputs": [],
   "source": []
  }
 ],
 "metadata": {
  "kernelspec": {
   "display_name": "Python 3 (ipykernel)",
   "language": "python",
   "name": "python3"
  },
  "language_info": {
   "codemirror_mode": {
    "name": "ipython",
    "version": 3
   },
   "file_extension": ".py",
   "mimetype": "text/x-python",
   "name": "python",
   "nbconvert_exporter": "python",
   "pygments_lexer": "ipython3",
   "version": "3.11.5"
  }
 },
 "nbformat": 4,
 "nbformat_minor": 5
}
