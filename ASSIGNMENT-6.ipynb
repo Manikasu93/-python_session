{
 "cells": [
  {
   "cell_type": "code",
   "execution_count": 29,
   "id": "8f1f8c57",
   "metadata": {},
   "outputs": [
    {
     "name": "stdout",
     "output_type": "stream",
     "text": [
      "hello world\n",
      "11\n",
      "hello worldhello worldhello worldhello worldhello worldhello worldhello worldhello worldhello worldhello world\n",
      "h\n",
      "hel\n",
      "rld\n"
     ]
    }
   ],
   "source": [
    "string1=input('')\n",
    "print(len(string1))\n",
    "print(string1*10)\n",
    "print(string1[0])\n",
    "print(string1[:3])\n",
    "print(string1[-3:])\n",
    "print(string)\n",
    "\n"
   ]
  },
  {
   "cell_type": "code",
   "execution_count": null,
   "id": "6237e111",
   "metadata": {},
   "outputs": [],
   "source": [
    "hello world"
   ]
  },
  {
   "cell_type": "code",
   "execution_count": null,
   "id": "7e6db7aa",
   "metadata": {},
   "outputs": [],
   "source": []
  },
  {
   "cell_type": "code",
   "execution_count": null,
   "id": "d9f73587",
   "metadata": {},
   "outputs": [],
   "source": []
  },
  {
   "cell_type": "code",
   "execution_count": null,
   "id": "e07338b0",
   "metadata": {},
   "outputs": [],
   "source": []
  },
  {
   "cell_type": "code",
   "execution_count": null,
   "id": "e5f623e4",
   "metadata": {},
   "outputs": [],
   "source": []
  }
 ],
 "metadata": {
  "kernelspec": {
   "display_name": "Python 3 (ipykernel)",
   "language": "python",
   "name": "python3"
  },
  "language_info": {
   "codemirror_mode": {
    "name": "ipython",
    "version": 3
   },
   "file_extension": ".py",
   "mimetype": "text/x-python",
   "name": "python",
   "nbconvert_exporter": "python",
   "pygments_lexer": "ipython3",
   "version": "3.11.5"
  }
 },
 "nbformat": 4,
 "nbformat_minor": 5
}
