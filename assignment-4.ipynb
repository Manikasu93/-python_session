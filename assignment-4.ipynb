{
 "cells": [
  {
   "cell_type": "markdown",
   "id": "2585c08d",
   "metadata": {},
   "source": [
    "Q)1:-Suppose that a Firm pays its employee at the rate of $12 per hour. An employee has worked for 37\n",
    "hours. How much should the firm pay the employee? "
   ]
  },
  {
   "cell_type": "code",
   "execution_count": 27,
   "id": "6fe98e15",
   "metadata": {},
   "outputs": [
    {
     "name": "stdout",
     "output_type": "stream",
     "text": [
      "the employee pay 12rs per/hr worked in 37 hr and total pay= 444 \n"
     ]
    }
   ],
   "source": [
    "rate=12\n",
    "hours=37\n",
    "pay=rate*hours\n",
    "print(\"the employee pay {}rs per/hr worked in {} hr and total pay= {} \".format(rate,hours,pay))\n"
   ]
  },
  {
   "cell_type": "code",
   "execution_count": null,
   "id": "c3391d6e",
   "metadata": {},
   "outputs": [],
   "source": [
    "Q)2:-How about prompting the user for the number of hours and using the input value to compute the\n",
    "total pay?"
   ]
  },
  {
   "cell_type": "code",
   "execution_count": 31,
   "id": "21830ed3",
   "metadata": {},
   "outputs": [
    {
     "name": "stdout",
     "output_type": "stream",
     "text": [
      "enter the rate:24\n",
      "enter the hours:5000\n",
      "the total payis:120000\n"
     ]
    }
   ],
   "source": [
    "rate=eval(input(\"enter the rate:\"))\n",
    "hours=eval(input('enter the hours:'))\n",
    "pay=rate*hours\n",
    "print(\"the total payis\",pay,sep=\":\")"
   ]
  },
  {
   "cell_type": "markdown",
   "id": "da08206c",
   "metadata": {},
   "source": [
    "Q)3:-For a certain academic subject the students are evaluated based on five tests -\n",
    "    * Quiz 1 (20 marks - 10% Weight), \n",
    "    * Quiz 2 (20 marks - 10% Weight),\n",
    "    * Class test (50 marks - 25% Weight), \n",
    "    * Assignment (100 marks - 25% weight)\n",
    "    * Project (200 marks - 30% weight).\n",
    "    \n",
    "   Design a program that will prompt the user for marks for each of the tests and calculate the overall\n",
    "marks (out of 100)."
   ]
  },
  {
   "cell_type": "code",
   "execution_count": 22,
   "id": "f3e22fbd",
   "metadata": {},
   "outputs": [
    {
     "name": "stdout",
     "output_type": "stream",
     "text": [
      "enter marks of quiz 1:15.\n",
      "enter marks of quiz 2:15\n",
      "enter marks of class test:45\n",
      "enter marks of assignment:95\n",
      "enter marks of project:195\n",
      "overall marks is  90.5\n"
     ]
    }
   ],
   "source": [
    "marks1=eval(input(\"enter marks of quiz 1:\"))\n",
    "marks2=eval(input(\"enter marks of quiz 2:\"))\n",
    "marks3=eval(input(\"enter marks of class test:\"))\n",
    "marks4=eval(input(\"enter marks of assignment:\"))\n",
    "marks5=eval(input(\"enter marks of project:\"))\n",
    "max_marks=(marks1*10)/20\n",
    "max_marks1=(marks2*10)/20\n",
    "max_marks2=(marks3*25)/50\n",
    "max_marks3=(marks4*25)/100\n",
    "max_marks4=(marks5*30)/200\n",
    "overall_marks=max_marks+max_marks1+max_marks2+max_marks3+max_marks4\n",
    "print(\"overall marks is \",overall_marks)"
   ]
  },
  {
   "cell_type": "markdown",
   "id": "8ebef1f4",
   "metadata": {},
   "source": [
    "Q)4:-If a five-digit number is input through the keyboard, write a program to calculate the sum of its\n",
    "digits."
   ]
  },
  {
   "cell_type": "code",
   "execution_count": 4,
   "id": "8a926cbe",
   "metadata": {},
   "outputs": [
    {
     "name": "stdout",
     "output_type": "stream",
     "text": [
      "enter the five number12345\n",
      "sum of its digits is 15\n"
     ]
    }
   ],
   "source": [
    "num=eval(input('enter the five number'))\n",
    "num1=num\n",
    "digit=num1%10\n",
    "digit2=num1//10%10\n",
    "digit3=num1//100%10\n",
    "digit4=num1//1000%10\n",
    "digit5=num1//10000\n",
    "summ1=digit+digit2+digit3+digit4+digit5\n",
    "print('sum of its digits is',summ1)"
   ]
  },
  {
   "cell_type": "markdown",
   "id": "24778754",
   "metadata": {},
   "source": [
    "Q)5:-If a five-digit number is input through the keyboard, write a program to print a new number by\n",
    "adding one to each of its digits. For example if the number that is input is 12371 then the output\n",
    "should be displayed as 23482."
   ]
  },
  {
   "cell_type": "code",
   "execution_count": 16,
   "id": "ec4d36d3",
   "metadata": {},
   "outputs": [
    {
     "name": "stdout",
     "output_type": "stream",
     "text": [
      "enter the five number12345\n",
      "sum of its digits is 23456\n"
     ]
    }
   ],
   "source": [
    "num=eval(input('enter the five number'))\n",
    "num1=num\n",
    "digit=(num1%10)+1\n",
    "digit2=(num1//10%10)+1\n",
    "digit3=(num1//100%10)+1\n",
    "digit4=(num1//1000%10)+1\n",
    "digit5=(num1//10000)+1\n",
    "summ1=digit5*10000+digit4*1000+digit3*100+digit2*10+digit\n",
    "print('sum of its digits is',summ1) "
   ]
  },
  {
   "cell_type": "markdown",
   "id": "d7ec2f04",
   "metadata": {},
   "source": [
    "Q):-6For a certain academic subject the students are evaluated based on five tests - \n",
    "* Quiz 1 (20 marks - 10% Weight),\n",
    "* Quiz 2 (20 marks - 10% Weight),\n",
    "* Class test (50 marks - 25% Weight), \n",
    "* Assignment (100 marks - 25% weight) \n",
    "* Project (200 marks - 30% weight).\n",
    "\n",
    "Design a program that will prompt the user for marks for each of the tests and calculate the overall\n",
    "marks (out of 100).\n",
    "\n",
    "#### Add an extension to the problem to display grades:\n",
    "Display the grades of students using the following table:\n",
    "\n",
    "Score    Grade\n",
    "#>= 60   First Class\n",
    "#>= 40   Second Class\n",
    "#< 40    Fail"
   ]
  },
  {
   "cell_type": "code",
   "execution_count": 23,
   "id": "bc3dc693",
   "metadata": {},
   "outputs": [
    {
     "name": "stdout",
     "output_type": "stream",
     "text": [
      "enter marks of quiz 1:15\n",
      "enter marks of quiz 2:15\n",
      "enter marks of class test:45\n",
      "enter marks of assignment:95\n",
      "enter marks of project:195\n",
      "overall marks is  90.5\n",
      "the grade is frist class\n"
     ]
    }
   ],
   "source": [
    "marks1=eval(input(\"enter marks of quiz 1:\"))\n",
    "marks2=eval(input(\"enter marks of quiz 2:\"))\n",
    "marks3=eval(input(\"enter marks of class test:\"))\n",
    "marks4=eval(input(\"enter marks of assignment:\"))\n",
    "marks5=eval(input(\"enter marks of project:\"))\n",
    "max_marks=(marks1*10)/20\n",
    "max_marks1=(marks2*10)/20\n",
    "max_marks2=(marks3*25)/50\n",
    "max_marks3=(marks4*25)/100\n",
    "max_marks4=(marks5*30)/200\n",
    "overall_marks=max_marks+max_marks1+max_marks2+max_marks3+max_marks4\n",
    "print(\"overall marks is \",overall_marks)\n",
    "if total_marks>=60:\n",
    "    grade='frist class'\n",
    "elif total_marks>=40:\n",
    "    grade='second class'\n",
    "else:\n",
    "    grade=\"fail\"\n",
    "print(\"the grade is\", grade)"
   ]
  },
  {
   "cell_type": "markdown",
   "id": "748871b6",
   "metadata": {},
   "source": [
    "Q)7:-How about prompting the user for the number of hours and using the input value to compute the\n",
    "total pay?"
   ]
  },
  {
   "cell_type": "code",
   "execution_count": null,
   "id": "9ac33667",
   "metadata": {},
   "outputs": [],
   "source": []
  },
  {
   "cell_type": "markdown",
   "id": "bb1b0d76",
   "metadata": {},
   "source": [
    "Q)8:-Rewrite the pay program (refer problem 2) using try and expect so that the program handles non-\n",
    "numeric input gracefully by printing a message and exiting the program. The following shows two\n",
    "\n",
    "executions of the program:\n",
    "\n",
    "Enter hours: 20\n",
    "Enter rate: nine\n",
    "Error, please enter numeric input"
   ]
  },
  {
   "cell_type": "code",
   "execution_count": 34,
   "id": "6c8dccb5",
   "metadata": {},
   "outputs": [
    {
     "name": "stdout",
     "output_type": "stream",
     "text": [
      "enter the rate:9\n",
      "enter the hours:20\n",
      "the total payis:180\n"
     ]
    }
   ],
   "source": [
    "try:\n",
    "    rate=eval(input(\"enter the rate:\"))\n",
    "    hours=eval(input('enter the hours:'))\n",
    "    pay=rate*hours\n",
    "    print(\"the total payis\",pay,sep=\":\")\n",
    "except:\n",
    "    print('please enter numeric input')"
   ]
  },
  {
   "cell_type": "code",
   "execution_count": null,
   "id": "ac99c50d",
   "metadata": {},
   "outputs": [],
   "source": [
    "Q)9:-Write a program that asks the user to enter a length in centimeters. If the user enters a negative\n",
    "length, the program should tell the user that the entry is invalid. Otherwise, the program should\n",
    "convert the length to inches and print out the result. There are 2.54 centimeters in an inch."
   ]
  },
  {
   "cell_type": "code",
   "execution_count": 37,
   "id": "7394c1db",
   "metadata": {},
   "outputs": [
    {
     "name": "stdout",
     "output_type": "stream",
     "text": [
      "enter the length in centimeters:19\n",
      "the length in centemeters is 48.26\n"
     ]
    }
   ],
   "source": [
    "l=eval(input('enter the length in centimeters:'))\n",
    "l_c=l*2.54\n",
    "if(l_c>=0):\n",
    "    print('the length in centemeters is',l_c)\n",
    "else:\n",
    "    print('enter correctly')"
   ]
  },
  {
   "cell_type": "code",
   "execution_count": null,
   "id": "fa8769b8",
   "metadata": {},
   "outputs": [],
   "source": [
    "Q)10:-Ask the user for a temperature. Then ask them what units, Celsius or Fahrenheit, the temperature is\n",
    "in. Your program should convert the temperature to the other unit. The conversions are F = 9 5 C +\n",
    "32 and C = 5 9 (F − 32)."
   ]
  },
  {
   "cell_type": "code",
   "execution_count": 47,
   "id": "616738f3",
   "metadata": {},
   "outputs": [
    {
     "name": "stdout",
     "output_type": "stream",
     "text": [
      "enter a temperature:23\n",
      "enter what units u want:f\n",
      "-5.0 fahrenheit\n"
     ]
    }
   ],
   "source": [
    "temp=eval(input(\"enter a temperature:\"))\n",
    "units1=input(\"enter what units u want:\")\n",
    "c=(temp-32)*5/9\n",
    "f=(temp*9/5)+32\n",
    "x=c\n",
    "if (units1==\"c\"):\n",
    "     print(\"{} celsius\".format(f))\n",
    "elif(units1==\"f\"):\n",
    "     print(\"{} fahrenheit\".format(c))\n",
    "elif(f==c):\n",
    "     print(\"nothing\")\n"
   ]
  },
  {
   "cell_type": "markdown",
   "id": "a492190e",
   "metadata": {},
   "source": [
    "Q)11:-Ask the user to enter a temperature in Celsius. The program should print a message based on the\n",
    "temperature:\n",
    "• If the temperature is less than -273.15, print that the temperature is invalid because it is\n",
    "below absolute zero.\n",
    "• If it is exactly -273.15, print that the temperature is absolute 0.\n",
    "• If the temperature is between -273.15 and 0, print that the temperature is below freezing.\n",
    "• If it is 0, print that the temperature is at the freezing point.\n",
    "• If it is between 0 and 100, print that the temperature is in the normal range.\n",
    "• If it is 100, print that the temperature is at the boiling point.\n",
    "• If it is above 100, print that the temperature is above the boiling point"
   ]
  },
  {
   "cell_type": "code",
   "execution_count": 8,
   "id": "090e9940",
   "metadata": {},
   "outputs": [
    {
     "name": "stdout",
     "output_type": "stream",
     "text": [
      "entr the temperature in celsius:-200\n",
      "the temperature is below frezing\n"
     ]
    }
   ],
   "source": [
    "temp=eval(input('entr the temperature in celsius:'))\n",
    "if (temp<-273.15):\n",
    "    print('temperature is invalid because it is below absolute zero.')\n",
    "elif(temp==-273.15):\n",
    "    print(\"the temperature is absolute zero\")\n",
    "elif(temp>=-273.15 and temp<0):\n",
    "     print(\"the temperature is below frezing\")\n",
    "elif(temp==0):\n",
    "     print(\"the temperature is at freez point\")\n",
    "elif(temp>=0 and temp<100 ):\n",
    "     print(\"the temperature is in the normal range\")\n",
    "elif(temp==100):\n",
    "    print(\"the temperature is at the boiling point\")\n",
    "elif(temp>100):\n",
    "     print(\"the temperature is above boiling point\")"
   ]
  },
  {
   "cell_type": "markdown",
   "id": "27d23462",
   "metadata": {},
   "source": [
    "Q)12:-Write a program that asks the user how many credits they have taken. If they have taken 23 or less,\n",
    "print that the student is a freshman. If they have taken between 24 and 53, print that they are a\n",
    "sophomore. The range for juniors is 54 to 83, and for seniors it is 84 and over.\n"
   ]
  },
  {
   "cell_type": "code",
   "execution_count": 4,
   "id": "6311de94",
   "metadata": {},
   "outputs": [
    {
     "name": "stdout",
     "output_type": "stream",
     "text": [
      "how many credits they have taken:80\n",
      "they are juniors\n"
     ]
    }
   ],
   "source": [
    "credits=eval(input(\"how many credits they have taken:\"))\n",
    "if(credits<=23):\n",
    "    print(\"the student is freshman\")\n",
    "elif(credits>=24 and credits<53):\n",
    "    print(\"they are a sophomore\")\n",
    "elif(credits>=54 and credits<83):\n",
    "    print(\"they are juniors\")\n",
    "elif(credits==84):\n",
    "    print(\"they are seniors\")\n",
    "else:\n",
    "    print(\"over\")\n"
   ]
  },
  {
   "cell_type": "markdown",
   "id": "c8bfed35",
   "metadata": {},
   "source": [
    "Q)13:-Generate a random number between 1 and 10. Ask the user to guess the number and print a\n",
    "message based on whether they get it right or not."
   ]
  },
  {
   "cell_type": "code",
   "execution_count": 15,
   "id": "b92d0632",
   "metadata": {},
   "outputs": [
    {
     "name": "stdout",
     "output_type": "stream",
     "text": [
      "7\n",
      "guess the number7\n",
      "7\n",
      "it is right\n"
     ]
    }
   ],
   "source": [
    "import random\n",
    "num=random.randint(1,10)\n",
    "print(num)\n",
    "num1=eval(input(\"guess the number\"))\n",
    "print(num1)\n",
    "if(num1==num):\n",
    "    print(\"it is right\")\n",
    "else:\n",
    "    print(\"it is wrong\")"
   ]
  },
  {
   "cell_type": "markdown",
   "id": "8f88ed0d",
   "metadata": {},
   "source": [
    "Q)14:-A store charges $12 per item if you buy less than 10 items. If you buy between 10 and 99 items, the\n",
    "cost is $10 per item. If you buy 100 or more items, the cost is $7 per item. Write a program that asks\n",
    "the user how many items they are buying and prints the total cost."
   ]
  },
  {
   "cell_type": "code",
   "execution_count": 5,
   "id": "196ec0c1",
   "metadata": {},
   "outputs": [
    {
     "name": "stdout",
     "output_type": "stream",
     "text": [
      "enter how many items:120\n",
      "the total cost is 840\n"
     ]
    }
   ],
   "source": [
    "items=eval(input(\"enter how many items:\"))\n",
    "if(items<10):\n",
    "    per_item1=12\n",
    "    total_cost1=items*per_item1\n",
    "    print(\"the total cost is\",total_cost1)\n",
    "elif(items>=10 and items<99):\n",
    "    per_item2=10\n",
    "    total_cost2=items*per_item2\n",
    "    print(\"the total cost is\",total_cost2)\n",
    "elif(items>=100):\n",
    "    per_cost3=7\n",
    "    total_cost3=items*per_cost3\n",
    "    print(\"the total cost is\",total_cost3)"
   ]
  },
  {
   "cell_type": "markdown",
   "id": "302214cf",
   "metadata": {},
   "source": [
    "Q)15:-Write a program that asks the user for two numbers and prints Close if the numbers are within .001\n",
    "of each other and Not close otherwise."
   ]
  },
  {
   "cell_type": "code",
   "execution_count": 14,
   "id": "39ca09a2",
   "metadata": {},
   "outputs": [
    {
     "name": "stdout",
     "output_type": "stream",
     "text": [
      "enter 1st number:52\n",
      "enter 2nd number:65\n",
      "not close\n"
     ]
    }
   ],
   "source": [
    "num1=eval(input(\"enter 1st number:\"))\n",
    "num2=int(input(\"enter 2nd number:\"))\n",
    "diff=abs(round(num1-num2,3))\n",
    "if(diff<=0.001):\n",
    "    print(\"the given number is close\")\n",
    "else:\n",
    "    print(\"not close\")\n",
    "    "
   ]
  },
  {
   "cell_type": "markdown",
   "id": "8d544f20",
   "metadata": {},
   "source": [
    "Q)16:-A year is a leap year if it is divisible by 4, except that years divisible by 100 are not leap years unless\n",
    "they are also divisible by 400. Write a program that asks the user for a year and prints out whether it\n",
    "is a leap year or not."
   ]
  },
  {
   "cell_type": "code",
   "execution_count": 19,
   "id": "ba589f48",
   "metadata": {},
   "outputs": [
    {
     "name": "stdout",
     "output_type": "stream",
     "text": [
      "enter a year:2028\n",
      "it is a leap year\n"
     ]
    }
   ],
   "source": [
    "year=eval(input(\"enter a year:\"))\n",
    "if(year%4==0):\n",
    "    if(year%100!=0):\n",
    "        print(\"it is a leap year\")\n",
    "    elif(year%100==0 and year%400==0):\n",
    "        print(\"it is a leap year\")\n",
    "    else:\n",
    "        print(\"it is not a leap year\")\n",
    "else:\n",
    "    print(\"it is not\")"
   ]
  },
  {
   "cell_type": "markdown",
   "id": "39a44421",
   "metadata": {},
   "source": [
    "Q):-17(Use conditional statements)\n",
    "\n",
    "#Write a program that asks the user to enter a number and prints out all the divisors of that number.\n",
    "[Hint: the % operator is used to tell if a number is divisible by something."
   ]
  },
  {
   "cell_type": "code",
   "execution_count": 13,
   "id": "e3478a9d",
   "metadata": {},
   "outputs": [
    {
     "name": "stdout",
     "output_type": "stream",
     "text": [
      "enter the number:162\n",
      "1is a divisor of162\n",
      "2is a divisor of162\n",
      "3is a divisor of162\n",
      "6is a divisor of162\n",
      "9is a divisor of162\n"
     ]
    }
   ],
   "source": [
    "num=eval(input('enter the number:'))\n",
    "if(num%1==0):\n",
    "    print(\"{}is a divisor of{}\".format(1,num))\n",
    "if(num%2==0):\n",
    "    print(\"{}is a divisor of{}\".format(2,num))\n",
    "if(num%3==0):\n",
    "    print(\"{}is a divisor of{}\".format(3,num))\n",
    "if(num%4==0):\n",
    "    print(\"{}is a divisor of{}\".format(4,num))\n",
    "if(num%5==0):\n",
    "    print(\"{}is a divisor of{}\".format(5,num))\n",
    "if(num%6==0):\n",
    "    print(\"{}is a divisor of{}\".format(6,num))\n",
    "    \n",
    "if(num%7==0):\n",
    "    print(\"{}is a divisor of{}\".format(7,num))\n",
    "if(num%8==0):\n",
    "    print(\"{}is a divisor of{}\".format(8,num))\n",
    "if(num%9==0):\n",
    "    print(\"{}is a divisor of{}\".format(9,num))\n",
    "if(num%10==0):\n",
    "    print(\"{}is a divisor of{}\".format(2,num))\n"
   ]
  },
  {
   "cell_type": "markdown",
   "id": "c8b57181",
   "metadata": {},
   "source": [
    "Q)18:-Write a program that asks the user for an hour between 1 and 12, asks them to enter am or pm, and\n",
    "asks them how many hours into the future they want to go.\n",
    "Print out what the hour will be that many hours into the future, printing am or pm as appropriate.\n",
    "An example is shown below."
   ]
  },
  {
   "cell_type": "code",
   "execution_count": 24,
   "id": "dc08f5c3",
   "metadata": {},
   "outputs": [
    {
     "name": "stdout",
     "output_type": "stream",
     "text": [
      "enter an hour between 1 and 12:8\n",
      "enter am or pm:am\n",
      "enter how many hours ahead?5\n",
      "New hour 1 pm\n"
     ]
    }
   ],
   "source": [
    "hour=eval(input(\"enter an hour between 1 and 12:\"))\n",
    "am=input(\"enter am or pm:\")\n",
    "_hrs=eval(input(\"enter how many hours ahead?\"))\n",
    "new_time=hour+_hrs\n",
    "_hrs=_hrs%24\n",
    "new_time=new_time%24\n",
    "if hour<12 and _hrs>=12:\n",
    "    new_time=new_time-12\n",
    "    if am=='am': am='pm'\n",
    "    else: am_pm='pm'\n",
    "elif hour<12 and _hrs<12:\n",
    "    if new_time>12:\n",
    "        new_time=new_time-12\n",
    "        if am=='am': am='pm'\n",
    "        else: am_pm='pm'\n",
    "    elif new_time==12:\n",
    "        if am=='am': am='pm'\n",
    "        else: am='am'\n",
    "elif hour==12:\n",
    "    if _hrs<12:\n",
    "        new_time=hour+_hrs-12\n",
    "        if am=='am': am='am'\n",
    "        else: am='pm'\n",
    "    elif _hrs>12:\n",
    "        new_time=hour+_hrs-24\n",
    "        if am=='am': am='pm'\n",
    "        else: am='am'\n",
    "    elif _hrs==12:\n",
    "        new_time=hour+_hrs-12\n",
    "        if am=='am': am='pm'\n",
    "        else: am='am'\n",
    "print(\"New hour {} {}\".format(new_time,am))"
   ]
  },
  {
   "cell_type": "code",
   "execution_count": null,
   "id": "39ddc867",
   "metadata": {},
   "outputs": [],
   "source": []
  },
  {
   "cell_type": "code",
   "execution_count": null,
   "id": "f5d479d2",
   "metadata": {},
   "outputs": [],
   "source": []
  },
  {
   "cell_type": "code",
   "execution_count": null,
   "id": "e9e6a6a1",
   "metadata": {},
   "outputs": [],
   "source": []
  },
  {
   "cell_type": "code",
   "execution_count": null,
   "id": "031da10a",
   "metadata": {},
   "outputs": [],
   "source": []
  }
 ],
 "metadata": {
  "kernelspec": {
   "display_name": "Python 3 (ipykernel)",
   "language": "python",
   "name": "python3"
  },
  "language_info": {
   "codemirror_mode": {
    "name": "ipython",
    "version": 3
   },
   "file_extension": ".py",
   "mimetype": "text/x-python",
   "name": "python",
   "nbconvert_exporter": "python",
   "pygments_lexer": "ipython3",
   "version": "3.11.5"
  }
 },
 "nbformat": 4,
 "nbformat_minor": 5
}
